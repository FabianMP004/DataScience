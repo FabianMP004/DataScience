{
 "cells": [
  {
   "cell_type": "code",
   "execution_count": 149,
   "metadata": {},
   "outputs": [],
   "source": [
    "import csv\n",
    "import requests\n",
    "from bs4 import BeautifulSoup\n",
    "import pandas as pd"
   ]
  },
  {
   "cell_type": "code",
   "execution_count": 150,
   "metadata": {},
   "outputs": [],
   "source": [
    "url = \"https://mapainmueble.com/properties/casa-en-renta-zona-14-codigocc34656-cac5407/\"\n",
    "req = requests.get(url)"
   ]
  },
  {
   "cell_type": "code",
   "execution_count": 151,
   "metadata": {},
   "outputs": [
    {
     "name": "stdout",
     "output_type": "stream",
     "text": [
      "<div class=\"panel-group property-panel\" id=\"accordion_prop_details\">\n",
      " <div class=\"panel panel-default\">\n",
      "  <div class=\"panel-heading\">\n",
      "   <a data-parent=\"#accordion_prop_details\" data-toggle=\"collapse\" href=\"#collapseOne\">\n",
      "    <h4 class=\"panel-title\" id=\"prop_det\">\n",
      "     Detalles\n",
      "    </h4>\n",
      "   </a>\n",
      "  </div>\n",
      "  <div class=\"panel-collapse collapse in\" id=\"collapseOne\">\n",
      "   <div class=\"panel-body\">\n",
      "    <div class=\"listing_detail col-md-4\">\n",
      "     <strong>\n",
      "      Precio:\n",
      "     </strong>\n",
      "     $ 9,900\n",
      "     <span class=\"price_label\">\n",
      "     </span>\n",
      "    </div>\n",
      "    <div class=\"listing_detail col-md-4\">\n",
      "     <strong>\n",
      "      Tamaño de la propiedad:\n",
      "     </strong>\n",
      "     760 m\n",
      "     <sup>\n",
      "      2\n",
      "     </sup>\n",
      "    </div>\n",
      "    <div class=\"listing_detail col-md-4\">\n",
      "     <strong>\n",
      "      Parqueos:\n",
      "     </strong>\n",
      "     10\n",
      "    </div>\n",
      "    <div class=\"listing_detail col-md-4\">\n",
      "     <strong>\n",
      "      Dormitorios:\n",
      "     </strong>\n",
      "     14\n",
      "    </div>\n",
      "    <div class=\"listing_detail col-md-4\">\n",
      "     <strong>\n",
      "      Baños:\n",
      "     </strong>\n",
      "     8.5\n",
      "    </div>\n",
      "    <div class=\"listing_detail col-md-4\">\n",
      "     <strong>\n",
      "      ID de la propiedad:\n",
      "     </strong>\n",
      "     CAC5407\n",
      "    </div>\n",
      "   </div>\n",
      "  </div>\n",
      " </div>\n",
      "</div>\n"
     ]
    }
   ],
   "source": [
    "soup = BeautifulSoup(req.text)\n",
    "soup = BeautifulSoup(req.content, \"html.parser\")\n",
    "results = soup.find(id=\"accordion_prop_details\")\n",
    "print(results.prettify())"
   ]
  },
  {
   "cell_type": "code",
   "execution_count": 152,
   "metadata": {},
   "outputs": [
    {
     "name": "stdout",
     "output_type": "stream",
     "text": [
      "Precio: $ 9,900\n",
      "Tamaño de la propiedad: 760 m2\n",
      "Parqueos: 10\n",
      "Dormitorios: 14\n",
      "Baños: 8.5\n",
      "ID de la propiedad: CAC5407\n"
     ]
    }
   ],
   "source": [
    "# Encuentra todos los divs con la clase \"listing_detail\"\n",
    "detalles_list = results.find_all(\"div\", class_=\"listing_detail col-md-4\")\n",
    "\n",
    "# Itera sobre cada div y extrae el texto\n",
    "for detalle in detalles_list:\n",
    "    print(detalle.text.strip())"
   ]
  },
  {
   "cell_type": "code",
   "execution_count": 153,
   "metadata": {},
   "outputs": [],
   "source": [
    "results2 = soup.find(id=\"accordion_prop_addr\")\n"
   ]
  },
  {
   "cell_type": "code",
   "execution_count": 154,
   "metadata": {},
   "outputs": [
    {
     "name": "stdout",
     "output_type": "stream",
     "text": [
      "Ciudad: *Guatemala, Ciudad\n",
      "Área: Zona 14\n"
     ]
    }
   ],
   "source": [
    "# Encuentra todos los divs con la clase \"listing_detail\"\n",
    "addr_list = results2.find_all(\"div\", class_=\"listing_detail\")\n",
    "\n",
    "# Itera sobre cada div y extrae el texto\n",
    "for addr in addr_list:\n",
    "    print(addr.text.strip())"
   ]
  },
  {
   "cell_type": "code",
   "execution_count": 155,
   "metadata": {},
   "outputs": [],
   "source": [
    "results3 = soup.find(id=\"all_wrapper\")\n"
   ]
  },
  {
   "cell_type": "code",
   "execution_count": 156,
   "metadata": {},
   "outputs": [
    {
     "name": "stdout",
     "output_type": "stream",
     "text": [
      "Alquiler\n",
      "Casa\n"
     ]
    }
   ],
   "source": [
    "cat_list = results3.find_all(\"div\", class_=\"property_title_label\")\n",
    "\n",
    "# Itera sobre cada div y extrae el texto\n",
    "for cat in cat_list:\n",
    "    print(cat.text.strip())"
   ]
  },
  {
   "cell_type": "code",
   "execution_count": 157,
   "metadata": {},
   "outputs": [
    {
     "name": "stdout",
     "output_type": "stream",
     "text": [
      "Detalles:\n",
      "Precio: $ 9,900\n",
      "Tamaño de la propiedad: 760 m2\n",
      "Parqueos: 10\n",
      "Dormitorios: 14\n",
      "Baños: 8.5\n",
      "ID de la propiedad: CAC5407\n",
      "\n",
      "Direcciones:\n",
      "Ciudad: *Guatemala, Ciudad\n",
      "Área: Zona 14\n"
     ]
    }
   ],
   "source": [
    "# Imprime los detalles extraídos\n",
    "print(\"Detalles:\")\n",
    "for detalle in detalles_list:\n",
    "    print(detalle.text.strip())\n",
    "\n",
    "# Imprime las direcciones extraídas\n",
    "print(\"\\nDirecciones:\")\n",
    "for addr in addr_list:\n",
    "    print(addr.text.strip())\n"
   ]
  },
  {
   "cell_type": "code",
   "execution_count": 158,
   "metadata": {},
   "outputs": [],
   "source": [
    "import re\n",
    "\n",
    "# Función para extraer solo los valores numéricos de los detalles\n",
    "def extract_value(text):\n",
    "    match = re.search(r'(\\d[\\d,]*)', text)\n",
    "    return match.group(1) if match else \"N/A\"\n",
    "# Función para extraer el texto completo sin el título\n",
    "def extract_full_text(text):\n",
    "    return text.split(':')[-1].strip()\n",
    "\n",
    "# Encuentra todos los divs con la clase \"listing_detail\" en la sección de detalles\n",
    "detalles_list = results.find_all(\"div\", class_=\"listing_detail col-md-4\")\n",
    "\n",
    "# Encuentra todos los divs con la clase \"listing_detail\" en la sección de dirección\n",
    "addr_list = results2.find_all(\"div\", class_=\"listing_detail\")\n",
    "\n",
    "# Extrae la información requerida\n",
    "property_id = extract_full_text(detalles_list[5].text.strip()) if len(detalles_list) > 5 else \"N/A\"\n",
    "price = extract_value(detalles_list[0].text.strip()) if len(detalles_list) > 0 else \"N/A\"\n",
    "property_size = extract_value(detalles_list[1].text.strip()) if len(detalles_list) > 1 else \"N/A\"\n",
    "parking = extract_value(detalles_list[2].text.strip()) if len(detalles_list) > 2 else \"N/A\"\n",
    "bathrooms = extract_value(detalles_list[3].text.strip()) if len(detalles_list) > 3 else \"N/A\"\n",
    "bedrooms = extract_value(detalles_list[4].text.strip()) if len(detalles_list) > 4 else \"N/A\"\n",
    "area = extract_value(addr_list[1].text.strip()) if len(detalles_list) > 1 else \"N/A\"\n",
    "cat = cat_list[0].text.strip() if len(cat_list) > 0 else \"N/A\"\n",
    "\n",
    "# Define the headers for the new CSV file\n",
    "headers = [\"ID de la propiedad\", \"Precio\", \"Dormitorios\", \"Banos\", \"Parqueos\", \"Tamano de la propiedad\", \"Area\", \"Categoria\"]\n",
    "\n",
    "# Create a dictionary with the extracted information\n",
    "property_data = {\n",
    "    \"ID de la propiedad\": property_id,\n",
    "    \"Precio\": price,\n",
    "    \"Dormitorios\": bedrooms,\n",
    "    \"Banos\": bathrooms,\n",
    "    \"Parqueos\": parking,\n",
    "    \"Tamano de la propiedad\": property_size,\n",
    "    \"Area\": area,\n",
    "    \"Categoria\": cat\n",
    "}\n",
    "\n",
    "# Write the data to a new CSV file\n",
    "with open('datos.csv', mode='w', newline='', encoding='utf-8') as file:\n",
    "    writer = csv.DictWriter(file, fieldnames=headers)\n",
    "    writer.writeheader()\n",
    "    writer.writerow(property_data)"
   ]
  },
  {
   "cell_type": "code",
   "execution_count": null,
   "metadata": {},
   "outputs": [],
   "source": [
    "carousel property_unit_carousel slide"
   ]
  }
 ],
 "metadata": {
  "kernelspec": {
   "display_name": "Python 3",
   "language": "python",
   "name": "python3"
  },
  "language_info": {
   "codemirror_mode": {
    "name": "ipython",
    "version": 3
   },
   "file_extension": ".py",
   "mimetype": "text/x-python",
   "name": "python",
   "nbconvert_exporter": "python",
   "pygments_lexer": "ipython3",
   "version": "3.12.2"
  }
 },
 "nbformat": 4,
 "nbformat_minor": 2
}
