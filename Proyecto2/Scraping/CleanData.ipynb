{
 "cells": [
  {
   "cell_type": "code",
   "execution_count": 57,
   "id": "initial_id",
   "metadata": {
    "collapsed": true,
    "ExecuteTime": {
     "end_time": "2025-03-03T19:41:37.362595300Z",
     "start_time": "2025-03-03T19:41:37.346300300Z"
    }
   },
   "outputs": [],
   "source": [
    "import pandas as pd"
   ]
  },
  {
   "cell_type": "code",
   "outputs": [
    {
     "name": "stdout",
     "output_type": "stream",
     "text": [
      "  ID de la propiedad Precio  Dormitorios  Banos  Parqueos  \\\n",
      "0           DAC14223  2,100          2.0    2.0       4.0   \n",
      "1           DAC13821  2,200          3.0    2.0       2.0   \n",
      "2            CAC5150  3,100          4.0    2.0       2.0   \n",
      "3            CAC5144  3,500          3.0    5.0       2.0   \n",
      "4           DAC13774  3,000          4.0    2.0       2.0   \n",
      "\n",
      "  Tamano de la propiedad     Area Categoria  \\\n",
      "0                    196  Zona 14  Alquiler   \n",
      "1                    NaN  Zona 14  Alquiler   \n",
      "2                    350  Zona 14  Alquiler   \n",
      "3                    459  Zona 14  Alquiler   \n",
      "4                    NaN  Zona 14  Alquiler   \n",
      "\n",
      "                                                 URL  \n",
      "0  https://mapainmueble.com/properties/preciosa-c...  \n",
      "1  https://mapainmueble.com/properties/casa-en-zo...  \n",
      "2  https://mapainmueble.com/properties/rento-casa...  \n",
      "3  https://mapainmueble.com/properties/casa-en-al...  \n",
      "4  https://mapainmueble.com/properties/casa-en-re...  \n"
     ]
    }
   ],
   "source": [
    "# Cargar el archivo CSV\n",
    "df = pd.read_csv('datos3.csv')\n",
    "print(df.head())"
   ],
   "metadata": {
    "collapsed": false,
    "ExecuteTime": {
     "end_time": "2025-03-03T19:41:37.396009300Z",
     "start_time": "2025-03-03T19:41:37.367112400Z"
    }
   },
   "id": "ca5f173f3745d625",
   "execution_count": 58
  },
  {
   "cell_type": "code",
   "outputs": [
    {
     "name": "stdout",
     "output_type": "stream",
     "text": [
      "  Precio  Dormitorios  Banos  Parqueos Tamano de la propiedad\n",
      "0  2,100          2.0    2.0       4.0                    196\n",
      "1  2,200          3.0    2.0       2.0                    NaN\n",
      "2  3,100          4.0    2.0       2.0                    350\n",
      "3  3,500          3.0    5.0       2.0                    459\n",
      "4  3,000          4.0    2.0       2.0                    NaN\n"
     ]
    }
   ],
   "source": [
    "# Seleccionar solo las columnas necesarias\n",
    "columnas_necesarias = ['Precio', 'Dormitorios', 'Banos', 'Parqueos', 'Tamano de la propiedad']\n",
    "df_limpio = df[columnas_necesarias]\n",
    "print(df_limpio.head())"
   ],
   "metadata": {
    "collapsed": false,
    "ExecuteTime": {
     "end_time": "2025-03-03T19:41:37.453772100Z",
     "start_time": "2025-03-03T19:41:37.386384200Z"
    }
   },
   "id": "3b693d0feb8f55da",
   "execution_count": 59
  },
  {
   "cell_type": "code",
   "outputs": [
    {
     "name": "stdout",
     "output_type": "stream",
     "text": [
      "  Precio  Dormitorios  Banos  Parqueos Tamano de la propiedad\n",
      "0  2,100          2.0    2.0       4.0                    196\n",
      "2  3,100          4.0    2.0       2.0                    350\n",
      "3  3,500          3.0    5.0       2.0                    459\n",
      "5  3,000          4.0    2.0       2.0                    350\n",
      "6  1,100          3.0    2.0       2.0                     10\n"
     ]
    }
   ],
   "source": [
    "# Eliminar filas con valores faltantes en las columnas seleccionadas\n",
    "df_limpio = df_limpio.dropna()\n",
    "print(df_limpio.head())"
   ],
   "metadata": {
    "collapsed": false,
    "ExecuteTime": {
     "end_time": "2025-03-03T19:41:37.457150Z",
     "start_time": "2025-03-03T19:41:37.398234100Z"
    }
   },
   "id": "18c240eb1e5dfc18",
   "execution_count": 60
  },
  {
   "cell_type": "code",
   "outputs": [
    {
     "name": "stdout",
     "output_type": "stream",
     "text": [
      "    Precio  Dormitorios  Banos  Parqueos Tamano de la propiedad\n",
      "0   2100.0          2.0    2.0       4.0                    196\n",
      "2   3100.0          4.0    2.0       2.0                    350\n",
      "3   3500.0          3.0    5.0       2.0                    459\n",
      "5   3000.0          4.0    2.0       2.0                    350\n",
      "6   1100.0          3.0    2.0       2.0                     10\n",
      "7   1600.0          3.0    2.0       4.0                     10\n",
      "9   2250.0          3.0    3.0       2.0                    325\n",
      "10  6900.0          7.0    9.0       6.0                     10\n",
      "11  4999.0          5.0    4.0      15.0                  1,541\n",
      "12  2500.0         15.0    6.0      15.0                    408\n"
     ]
    }
   ],
   "source": [
    "# Convertir la columna 'Precio' a tipo numérico, eliminando las comas\n",
    "df_limpio['Precio'] = df_limpio['Precio'].str.replace(',', '').astype(float)\n",
    "print(df_limpio.head(10))"
   ],
   "metadata": {
    "collapsed": false,
    "ExecuteTime": {
     "end_time": "2025-03-03T19:41:37.458209200Z",
     "start_time": "2025-03-03T19:41:37.409475300Z"
    }
   },
   "id": "2c1f5ce3b7414121",
   "execution_count": 61
  },
  {
   "cell_type": "code",
   "outputs": [
    {
     "name": "stdout",
     "output_type": "stream",
     "text": [
      "   Precio  Dormitorios  Banos  Parqueos Tamano de la propiedad\n",
      "0  2100.0          2.0    2.0       4.0                    196\n",
      "2  3100.0          4.0    2.0       2.0                    350\n",
      "3  3500.0          3.0    5.0       2.0                    459\n",
      "5  3000.0          4.0    2.0       2.0                    350\n",
      "6  1100.0          3.0    2.0       2.0                     10\n"
     ]
    }
   ],
   "source": [
    "df_limpio = df_limpio[df_limpio['Parqueos'] <= 10]\n",
    "print(df_limpio.head())"
   ],
   "metadata": {
    "collapsed": false,
    "ExecuteTime": {
     "end_time": "2025-03-03T19:41:37.475380300Z",
     "start_time": "2025-03-03T19:41:37.425869900Z"
    }
   },
   "id": "69399cc82cdf928f",
   "execution_count": 62
  },
  {
   "cell_type": "code",
   "outputs": [
    {
     "name": "stdout",
     "output_type": "stream",
     "text": [
      "   Precio  Dormitorios  Banos  Parqueos  Tamano de la propiedad\n",
      "0  2100.0          2.0    2.0       4.0                   196.0\n",
      "2  3100.0          4.0    2.0       2.0                   350.0\n",
      "3  3500.0          3.0    5.0       2.0                   459.0\n",
      "5  3000.0          4.0    2.0       2.0                   350.0\n",
      "6  1100.0          3.0    2.0       2.0                    10.0\n"
     ]
    }
   ],
   "source": [
    "# Convertir las columnas 'Dormitorios', 'Banos', 'Parqueos' y 'Tamano de la propiedad' a tipo numérico\n",
    "df_limpio['Dormitorios'] = pd.to_numeric(df_limpio['Dormitorios'], errors='coerce')\n",
    "df_limpio['Banos'] = pd.to_numeric(df_limpio['Banos'], errors='coerce')\n",
    "df_limpio['Parqueos'] = pd.to_numeric(df_limpio['Parqueos'], errors='coerce')\n",
    "df_limpio['Tamano de la propiedad'] = pd.to_numeric(df_limpio['Tamano de la propiedad'], errors='coerce')\n",
    "print(df_limpio.head())"
   ],
   "metadata": {
    "collapsed": false,
    "ExecuteTime": {
     "end_time": "2025-03-03T19:41:37.582609900Z",
     "start_time": "2025-03-03T19:41:37.465535300Z"
    }
   },
   "id": "1b6a4667bb797242",
   "execution_count": 63
  },
  {
   "cell_type": "code",
   "outputs": [
    {
     "name": "stdout",
     "output_type": "stream",
     "text": [
      "   Precio  Dormitorios  Banos  Parqueos  Tamano de la propiedad\n",
      "0  2100.0          2.0    2.0       4.0                   196.0\n",
      "2  3100.0          4.0    2.0       2.0                   350.0\n",
      "3  3500.0          3.0    5.0       2.0                   459.0\n",
      "5  3000.0          4.0    2.0       2.0                   350.0\n",
      "9  2250.0          3.0    3.0       2.0                   325.0\n"
     ]
    }
   ],
   "source": [
    "df_limpio = df_limpio[(df_limpio['Tamano de la propiedad'] >= 100) & (df_limpio['Tamano de la propiedad'] <= 2000)]\n",
    "print(df_limpio.head())"
   ],
   "metadata": {
    "collapsed": false,
    "ExecuteTime": {
     "end_time": "2025-03-03T19:41:37.585958100Z",
     "start_time": "2025-03-03T19:41:37.565795500Z"
    }
   },
   "id": "1d78269df2afcfa9",
   "execution_count": 64
  },
  {
   "cell_type": "code",
   "outputs": [
    {
     "name": "stdout",
     "output_type": "stream",
     "text": [
      "   Precio  Dormitorios  Banos  Parqueos  Tamano de la propiedad\n",
      "0  2100.0          2.0    2.0       4.0                   196.0\n",
      "2  3100.0          4.0    2.0       2.0                   350.0\n",
      "3  3500.0          3.0    5.0       2.0                   459.0\n",
      "5  3000.0          4.0    2.0       2.0                   350.0\n",
      "9  2250.0          3.0    3.0       2.0                   325.0\n"
     ]
    }
   ],
   "source": [
    "df_limpio = df_limpio[(df_limpio['Precio'] >= 100) & (df_limpio['Precio'] <= 10001)]\n",
    "print(df_limpio.head())"
   ],
   "metadata": {
    "collapsed": false,
    "ExecuteTime": {
     "end_time": "2025-03-03T19:41:37.652171Z",
     "start_time": "2025-03-03T19:41:37.589278500Z"
    }
   },
   "id": "b2071ebec51c6db2",
   "execution_count": 65
  },
  {
   "cell_type": "code",
   "outputs": [
    {
     "name": "stdout",
     "output_type": "stream",
     "text": [
      "   Precio  Dormitorios  Banos  Parqueos  Tamano de la propiedad\n",
      "0  2100.0          2.0    2.0       4.0                   196.0\n",
      "2  3100.0          4.0    2.0       2.0                   350.0\n",
      "3  3500.0          3.0    5.0       2.0                   459.0\n",
      "5  3000.0          4.0    2.0       2.0                   350.0\n",
      "9  2250.0          3.0    3.0       2.0                   325.0\n"
     ]
    }
   ],
   "source": [
    "# Eliminar filas con valores faltantes después de la conversión\n",
    "df_limpio = df_limpio.dropna()\n",
    "print(df_limpio.head())"
   ],
   "metadata": {
    "collapsed": false,
    "ExecuteTime": {
     "end_time": "2025-03-03T19:41:37.713708600Z",
     "start_time": "2025-03-03T19:41:37.655444400Z"
    }
   },
   "id": "a1c88dbce83bd1a1",
   "execution_count": 66
  },
  {
   "cell_type": "code",
   "outputs": [],
   "source": [
    "# Guardar el DataFrame limpio en un nuevo archivo CSV\n",
    "df_limpio.to_csv('datos_limpios_3.csv', index=False)"
   ],
   "metadata": {
    "collapsed": false,
    "ExecuteTime": {
     "end_time": "2025-03-03T19:41:37.795874Z",
     "start_time": "2025-03-03T19:41:37.698629600Z"
    }
   },
   "id": "85593f74f716fdb5",
   "execution_count": 67
  }
 ],
 "metadata": {
  "kernelspec": {
   "display_name": "Python 3",
   "language": "python",
   "name": "python3"
  },
  "language_info": {
   "codemirror_mode": {
    "name": "ipython",
    "version": 2
   },
   "file_extension": ".py",
   "mimetype": "text/x-python",
   "name": "python",
   "nbconvert_exporter": "python",
   "pygments_lexer": "ipython2",
   "version": "2.7.6"
  }
 },
 "nbformat": 4,
 "nbformat_minor": 5
}
